{
  "nbformat": 4,
  "nbformat_minor": 0,
  "metadata": {
    "colab": {
      "provenance": []
    },
    "kernelspec": {
      "name": "python3",
      "display_name": "Python 3"
    },
    "language_info": {
      "name": "python"
    }
  },
  "cells": [
    {
      "cell_type": "markdown",
      "source": [
        "Simulated task scheduling in a cloud environment using various algorithms like Ant Colony Optimization (ACO) and Particle Swarm Optimization (PSO). The simulation helps in optimizing resource allocation and minimizing execution time in a cloud computing environment."
      ],
      "metadata": {
        "id": "wtyLrtxT9Y-M"
      }
    },
    {
      "cell_type": "markdown",
      "source": [
        "## **HM**"
      ],
      "metadata": {
        "id": "u8z6_OMs2Wtn"
      }
    },
    {
      "cell_type": "code",
      "source": [
        "pip install simpy"
      ],
      "metadata": {
        "colab": {
          "base_uri": "https://localhost:8080/"
        },
        "id": "SDtoMdomtLIP",
        "outputId": "c00d6c22-2ac1-4be6-8322-3d89f5ab4b74"
      },
      "execution_count": null,
      "outputs": [
        {
          "output_type": "stream",
          "name": "stdout",
          "text": [
            "Collecting simpy\n",
            "  Downloading simpy-4.1.1-py3-none-any.whl (27 kB)\n",
            "Installing collected packages: simpy\n",
            "Successfully installed simpy-4.1.1\n"
          ]
        }
      ]
    },
    {
      "cell_type": "code",
      "source": [
        "import random\n",
        "import numpy as np\n",
        "import simpy"
      ],
      "metadata": {
        "id": "3jMJX2uUM5GM"
      },
      "execution_count": null,
      "outputs": []
    },
    {
      "cell_type": "code",
      "source": [
        "# Define tasks and resources (simplified representation)\n",
        "tasks = [{'id': 1, 'cpu': 5, 'memory': 512, 'time': 10},\n",
        "         {'id': 2, 'cpu': 3, 'memory': 256, 'time': 8},\n",
        "         {'id': 3, 'cpu': 4, 'memory': 128, 'time': 5}]\n",
        "\n",
        "resources = [{'id': 1, 'cpu': 20, 'memory': 2048},\n",
        "             {'id': 2, 'cpu': 15, 'memory': 1024}]\n",
        "\n",
        "def first_fit(tasks, resources):\n",
        "    task_schedule = []\n",
        "    for task in tasks:\n",
        "        for resource in resources:\n",
        "            if resource['cpu'] >= task['cpu'] and resource['memory'] >= task['memory']:\n",
        "                task_schedule.append((task, resource))\n",
        "                resources.remove(resource)  # Mark resource as unavailable\n",
        "                break\n",
        "        else:\n",
        "            print(\"Warning: No available resource to accommodate the task:\", task)\n",
        "    return task_schedule\n",
        "\n",
        "def calculate_completion_time(task_schedule):\n",
        "    completion_time = 0\n",
        "    for task, resource in task_schedule:\n",
        "        cpu_ratio = resource['cpu'] / task['cpu'] if task['cpu'] != 0 else float('inf')\n",
        "        memory_ratio = resource['memory'] / task['memory'] if task['memory'] != 0 else float('inf')\n",
        "        completion_time += task['time'] / min(cpu_ratio, memory_ratio)\n",
        "    return completion_time\n",
        "\n",
        "def calculate_resource_utilization(task_schedule):\n",
        "    total_cpu = sum(resource['cpu'] for _, resource in task_schedule)\n",
        "    total_memory = sum(resource['memory'] for _, resource in task_schedule)\n",
        "    used_cpu = sum(task['cpu'] for task, _ in task_schedule)\n",
        "    used_memory = sum(task['memory'] for task, _ in task_schedule)\n",
        "    cpu_utilization = used_cpu / total_cpu if total_cpu != 0 else 0\n",
        "    memory_utilization = used_memory / total_memory if total_memory != 0 else 0\n",
        "    return cpu_utilization, memory_utilization\n",
        "\n",
        "# Execute the heuristic algorithm\n",
        "task_schedule = first_fit(tasks, resources)\n",
        "\n",
        "# Calculate completion time and print results\n",
        "hm_completion_time = calculate_completion_time(task_schedule)\n",
        "cpu_utilization, memory_utilization = calculate_resource_utilization(task_schedule)\n",
        "\n",
        "print(\"Task Schedule:\", task_schedule)\n",
        "print(\"Total Completion Time:\", hm_completion_time)\n",
        "print(\"CPU Utilization:\", cpu_utilization)\n",
        "print(\"Memory Utilization:\", memory_utilization)\n"
      ],
      "metadata": {
        "colab": {
          "base_uri": "https://localhost:8080/"
        },
        "id": "6puUQVuN95GK",
        "outputId": "86f61438-0912-4844-e559-ff679502eb52"
      },
      "execution_count": null,
      "outputs": [
        {
          "output_type": "stream",
          "name": "stdout",
          "text": [
            "Warning: No available resource to accommodate the task: {'id': 3, 'cpu': 4, 'memory': 128, 'time': 5}\n",
            "Task Schedule: [({'id': 1, 'cpu': 5, 'memory': 512, 'time': 10}, {'id': 1, 'cpu': 20, 'memory': 2048}), ({'id': 2, 'cpu': 3, 'memory': 256, 'time': 8}, {'id': 2, 'cpu': 15, 'memory': 1024})]\n",
            "Total Completion Time: 4.5\n",
            "CPU Utilization: 0.22857142857142856\n",
            "Memory Utilization: 0.25\n"
          ]
        }
      ]
    },
    {
      "cell_type": "markdown",
      "source": [
        "## **GA**"
      ],
      "metadata": {
        "id": "4b0LaqDY1593"
      }
    },
    {
      "cell_type": "code",
      "source": [
        "import random\n",
        "\n",
        "# Define tasks and resources (simplified representation)\n",
        "tasks = [{'id': 1, 'cpu': 5, 'memory': 512, 'time': 10},\n",
        "         {'id': 2, 'cpu': 3, 'memory': 256, 'time': 8},\n",
        "         {'id': 3, 'cpu': 4, 'memory': 128, 'time': 5}]\n",
        "\n",
        "resources = [{'id': 1, 'cpu': 20, 'memory': 2048},\n",
        "             {'id': 2, 'cpu': 15, 'memory': 1024}]\n",
        "\n",
        "# Genetic algorithm parameters\n",
        "population_size = 10\n",
        "max_generations = 10\n",
        "mutation_rate = 0.1\n",
        "\n",
        "def generate_chromosome():\n",
        "    # Generate a random task schedule\n",
        "    return [random.choice(resources) for _ in range(len(tasks))]\n",
        "\n",
        "def fitness(chromosome):\n",
        "    # Calculate total completion time for the given task schedule\n",
        "    completion_time = 0\n",
        "    for i, task in enumerate(tasks):\n",
        "        resource = chromosome[i]\n",
        "        completion_time += task['time'] / min(resource['cpu'] / task['cpu'], resource['memory'] / task['memory'])\n",
        "    return completion_time\n",
        "\n",
        "def calculate_resource_utilization(solution):\n",
        "    # Calculate resource utilization for the given solution\n",
        "    total_cpu_capacity = sum(resource['cpu'] for resource in resources)\n",
        "    total_memory_capacity = sum(resource['memory'] for resource in resources)\n",
        "    used_cpu = sum(task['cpu'] for task, resource in zip(tasks, solution))\n",
        "    used_memory = sum(task['memory'] for task, resource in zip(tasks, solution))\n",
        "    cpu_utilization = used_cpu / total_cpu_capacity\n",
        "    memory_utilization = used_memory / total_memory_capacity\n",
        "    return cpu_utilization, memory_utilization\n",
        "\n",
        "\n",
        "def crossover(parent1, parent2):\n",
        "    # Perform crossover (single-point crossover)\n",
        "    crossover_point = random.randint(1, len(tasks) - 1)\n",
        "    child1 = parent1[:crossover_point] + parent2[crossover_point:]\n",
        "    child2 = parent2[:crossover_point] + parent1[crossover_point:]\n",
        "    return child1, child2\n",
        "\n",
        "def mutate(chromosome):\n",
        "    # Perform mutation (randomly change one resource assignment)\n",
        "    mutated_chromosome = chromosome.copy()\n",
        "    index = random.randint(0, len(tasks) - 1)\n",
        "    mutated_chromosome[index] = random.choice(resources)\n",
        "    return mutated_chromosome\n",
        "\n",
        "def genetic_algorithm():\n",
        "    # Initialize population\n",
        "    population = [generate_chromosome() for _ in range(population_size)]\n",
        "\n",
        "    for generation in range(max_generations):\n",
        "        # Calculate fitness for each chromosome\n",
        "        fitness_values = [fitness(chromosome) for chromosome in population]\n",
        "\n",
        "        # Select parents for crossover\n",
        "        parents = random.choices(population, weights=[1/fit for fit in fitness_values], k=2)\n",
        "\n",
        "        # Perform crossover and mutation to generate offspring\n",
        "        offspring = []\n",
        "        for _ in range(population_size // 2):\n",
        "            child1, child2 = crossover(parents[0], parents[1])\n",
        "            offspring.extend([mutate(child1), mutate(child2)])\n",
        "\n",
        "        # Replace population with offspring\n",
        "        population = offspring\n",
        "\n",
        "        # Output best solution in each generation\n",
        "        best_solution = min(population, key=fitness)\n",
        "        print(f\"Generation {generation + 1}, Best Solution: {best_solution}, Fitness: {fitness(best_solution)}\")\n",
        "\n",
        "    # Return the best solution found\n",
        "    return min(population, key=fitness)\n",
        "\n",
        "best_ga_solution = genetic_algorithm()\n",
        "print(\"Best Solution Found:\", best_ga_solution)\n",
        "print(\"Total Completion Time:\", fitness(best_ga_solution))\n",
        "print(\"Resource Utilization (CPU, Memory):\", calculate_resource_utilization(best_ga_solution))\n",
        "population = [generate_chromosome() for _ in range(population_size)]"
      ],
      "metadata": {
        "colab": {
          "base_uri": "https://localhost:8080/"
        },
        "id": "VlFmc5mVADvD",
        "outputId": "ff6deebd-485b-45f9-d75e-bb532a0a9794"
      },
      "execution_count": null,
      "outputs": [
        {
          "output_type": "stream",
          "name": "stdout",
          "text": [
            "Generation 1, Best Solution: [{'id': 1, 'cpu': 20, 'memory': 2048}, {'id': 2, 'cpu': 15, 'memory': 1024}, {'id': 2, 'cpu': 15, 'memory': 1024}], Fitness: 5.833333333333333\n",
            "Generation 2, Best Solution: [{'id': 1, 'cpu': 20, 'memory': 2048}, {'id': 2, 'cpu': 15, 'memory': 1024}, {'id': 1, 'cpu': 20, 'memory': 2048}], Fitness: 5.5\n",
            "Generation 3, Best Solution: [{'id': 1, 'cpu': 20, 'memory': 2048}, {'id': 1, 'cpu': 20, 'memory': 2048}, {'id': 1, 'cpu': 20, 'memory': 2048}], Fitness: 4.7\n",
            "Generation 4, Best Solution: [{'id': 1, 'cpu': 20, 'memory': 2048}, {'id': 1, 'cpu': 20, 'memory': 2048}, {'id': 1, 'cpu': 20, 'memory': 2048}], Fitness: 4.7\n",
            "Generation 5, Best Solution: [{'id': 1, 'cpu': 20, 'memory': 2048}, {'id': 1, 'cpu': 20, 'memory': 2048}, {'id': 1, 'cpu': 20, 'memory': 2048}], Fitness: 4.7\n",
            "Generation 6, Best Solution: [{'id': 1, 'cpu': 20, 'memory': 2048}, {'id': 1, 'cpu': 20, 'memory': 2048}, {'id': 1, 'cpu': 20, 'memory': 2048}], Fitness: 4.7\n",
            "Generation 7, Best Solution: [{'id': 1, 'cpu': 20, 'memory': 2048}, {'id': 1, 'cpu': 20, 'memory': 2048}, {'id': 1, 'cpu': 20, 'memory': 2048}], Fitness: 4.7\n",
            "Generation 8, Best Solution: [{'id': 1, 'cpu': 20, 'memory': 2048}, {'id': 2, 'cpu': 15, 'memory': 1024}, {'id': 1, 'cpu': 20, 'memory': 2048}], Fitness: 5.5\n",
            "Generation 9, Best Solution: [{'id': 1, 'cpu': 20, 'memory': 2048}, {'id': 2, 'cpu': 15, 'memory': 1024}, {'id': 1, 'cpu': 20, 'memory': 2048}], Fitness: 5.5\n",
            "Generation 10, Best Solution: [{'id': 1, 'cpu': 20, 'memory': 2048}, {'id': 1, 'cpu': 20, 'memory': 2048}, {'id': 1, 'cpu': 20, 'memory': 2048}], Fitness: 4.7\n",
            "Best Solution Found: [{'id': 1, 'cpu': 20, 'memory': 2048}, {'id': 1, 'cpu': 20, 'memory': 2048}, {'id': 1, 'cpu': 20, 'memory': 2048}]\n",
            "Total Completion Time: 4.7\n",
            "Resource Utilization (CPU, Memory): (0.34285714285714286, 0.2916666666666667)\n"
          ]
        }
      ]
    },
    {
      "cell_type": "markdown",
      "source": [
        "## **ACO**"
      ],
      "metadata": {
        "id": "Bq_Vf0uT19zJ"
      }
    },
    {
      "cell_type": "code",
      "source": [
        "# Parameters\n",
        "NUM_VMS = 5\n",
        "NUM_TASKS = 10\n",
        "NUM_ANTS = 5\n",
        "NUM_ITERATIONS = 10\n",
        "EVAPORATION_RATE = 0.5\n",
        "ALPHA = 1\n",
        "BETA = 2\n",
        "Q = 1\n",
        "\n",
        "class VM:\n",
        "    def __init__(self, env, name, mips, ram, bw):\n",
        "        self.env = env\n",
        "        self.name = name\n",
        "        self.mips = mips\n",
        "        self.ram = ram\n",
        "        self.bw = bw\n",
        "        self.tasks = []\n",
        "        self.cpu = simpy.Resource(env, capacity=1)\n",
        "        self.used_cpu = 0  # Initialize used cpu and ram\n",
        "        self.used_ram = 0\n",
        "\n",
        "class Task:\n",
        "    def __init__(self, env, name, length, fileSize, outputSize):\n",
        "        self.env = env\n",
        "        self.name = name\n",
        "        self.length = length\n",
        "        self.fileSize = fileSize\n",
        "        self.outputSize = outputSize\n",
        "\n",
        "def create_vms(env, num_vms):\n",
        "    vms = []\n",
        "    for i in range(num_vms):\n",
        "        mips = random.randint(500, 2000)\n",
        "        ram = random.randint(512, 2048)\n",
        "        bw = random.randint(100, 1000)\n",
        "        vm = VM(env, f'VM_{i}', mips, ram, bw)\n",
        "        vms.append(vm)\n",
        "    return vms\n",
        "\n",
        "def create_tasks(env, num_tasks):\n",
        "    tasks = []\n",
        "    for i in range(num_tasks):\n",
        "        length = random.randint(100, 1000)\n",
        "        fileSize = random.randint(100, 500)\n",
        "        outputSize = random.randint(100, 500)\n",
        "        task = Task(env, f'Task_{i}', length, fileSize, outputSize)\n",
        "        tasks.append(task)\n",
        "    return tasks\n",
        "\n",
        "def calculate_probabilities(vms, task, pheromone_matrix, vm_indices):\n",
        "    probabilities = []\n",
        "    total_probability = 0\n",
        "    for vm_index in vm_indices:\n",
        "        pheromone = pheromone_matrix[vm_index]\n",
        "        heuristic = 1  # Placeholder for heuristic calculation\n",
        "        probability = pheromone * heuristic\n",
        "        probabilities.append(probability)\n",
        "        total_probability += probability\n",
        "    probabilities = [p / total_probability for p in probabilities]\n",
        "    return probabilities\n",
        "\n",
        "def update_pheromone(pheromone_matrix, ant_routes):\n",
        "    for ant_route in ant_routes:\n",
        "        for vm_index in ant_route:\n",
        "            pheromone_matrix[vm_index] += Q\n",
        "\n",
        "def aco(env, vms, tasks):\n",
        "    pheromone_matrix = np.ones(NUM_VMS)  # Initialize pheromone matrix\n",
        "    best_solution = None\n",
        "    best_completion_time = float('inf')\n",
        "    for iteration in range(NUM_ITERATIONS):\n",
        "        ant_routes = []\n",
        "        for ant in range(NUM_ANTS):\n",
        "            vm_indices = list(range(NUM_VMS))\n",
        "            ant_route = []\n",
        "            while vm_indices:\n",
        "                probabilities = calculate_probabilities(vms, tasks[ant % NUM_TASKS], pheromone_matrix, vm_indices)\n",
        "                selected_vm_index = np.random.choice(vm_indices, p=probabilities)\n",
        "                ant_route.append(selected_vm_index)\n",
        "                vm_indices.remove(selected_vm_index)\n",
        "            ant_routes.append(ant_route)\n",
        "            completion_time = calculate_completion_time(ant_route, vms, tasks)\n",
        "            if completion_time < best_completion_time:\n",
        "                best_solution = ant_route\n",
        "                best_completion_time = completion_time\n",
        "        update_pheromone(pheromone_matrix, ant_routes)\n",
        "    return best_solution, best_completion_time\n",
        "\n",
        "def calculate_completion_time(vm_indices, vms, tasks):\n",
        "    vm_completion_times = [0] * len(vms)\n",
        "    for i, vm_index in enumerate(vm_indices):\n",
        "        vm = vms[vm_index]\n",
        "        task = tasks[i % len(tasks)]\n",
        "        vm_completion_time = max(vm_completion_times[vm_index], task.length / vm.mips)\n",
        "        vm_completion_times[vm_index] = vm_completion_time + task.length / vm.mips\n",
        "        # Update used CPU and RAM\n",
        "        vm.used_cpu += task.length / vm.mips\n",
        "        vm.used_ram += task.outputSize\n",
        "    return max(vm_completion_times)\n",
        "\n",
        "def calculate_resource_utilization(vms):\n",
        "    total_cpu = sum(vm.mips for vm in vms)\n",
        "    total_ram = sum(vm.ram for vm in vms)\n",
        "    used_cpu = sum(vm.used_cpu for vm in vms)\n",
        "    used_ram = sum(vm.used_ram for vm in vms)\n",
        "    cpu_utilization = used_cpu / total_cpu\n",
        "    ram_utilization = used_ram / total_ram\n",
        "    return cpu_utilization, ram_utilization\n",
        "\n",
        "def main():\n",
        "    env = simpy.Environment()\n",
        "    vms = create_vms(env, NUM_VMS)\n",
        "    tasks = create_tasks(env, NUM_TASKS)\n",
        "    best_solution, best_completion_aco_time = aco(env, vms, tasks)\n",
        "    cpu_utilization, ram_utilization = calculate_resource_utilization(vms)\n",
        "    print(\"Best Solution Found:\", best_solution)\n",
        "    print(\"Total Completion Time:\", best_completion_aco_time)\n",
        "    print(\"CPU Utilization:\", cpu_utilization)\n",
        "    print(\"RAM Utilization:\", ram_utilization)\n",
        "\n",
        "if __name__ == \"__main__\":\n",
        "    main()\n"
      ],
      "metadata": {
        "colab": {
          "base_uri": "https://localhost:8080/"
        },
        "id": "WgyaG6fn58ny",
        "outputId": "9970c92b-e518-4aa3-b0e1-da54ebdec8be"
      },
      "execution_count": null,
      "outputs": [
        {
          "output_type": "stream",
          "name": "stdout",
          "text": [
            "Best Solution Found: [0, 4, 3, 2, 1]\n",
            "Total Completion Time: 0.9758342922899885\n",
            "CPU Utilization: 0.010741042278688608\n",
            "RAM Utilization: 11.310840707964601\n"
          ]
        }
      ]
    },
    {
      "cell_type": "markdown",
      "source": [
        "# PSO"
      ],
      "metadata": {
        "id": "pHB-8Jpg6Bti"
      }
    },
    {
      "cell_type": "code",
      "source": [
        "import simpy\n",
        "import random\n",
        "import numpy as np\n",
        "\n",
        "# Parameters\n",
        "NUM_VMS = 5\n",
        "NUM_TASKS = 10\n",
        "NUM_PARTICLES = 5\n",
        "NUM_ITERATIONS = 10\n",
        "MAX_SPEED = 5\n",
        "C1 = 0.5\n",
        "C2 = 0.5\n",
        "\n",
        "class VM:\n",
        "    def __init__(self, env, name, mips, ram, bw):\n",
        "        self.env = env\n",
        "        self.name = name\n",
        "        self.mips = mips\n",
        "        self.ram = ram\n",
        "        self.bw = bw\n",
        "        self.tasks = []\n",
        "        self.cpu = simpy.Resource(env, capacity=1)\n",
        "        self.used_cpu = 0\n",
        "        self.used_ram = 0\n",
        "\n",
        "class Task:\n",
        "    def __init__(self, env, name, length, cpu, ram):\n",
        "        self.env = env\n",
        "        self.name = name\n",
        "        self.length = length\n",
        "        self.cpu = cpu\n",
        "        self.ram = ram\n",
        "\n",
        "def create_vms(env, num_vms):\n",
        "    vms = []\n",
        "    for i in range(num_vms):\n",
        "        mips = random.randint(500, 2000)\n",
        "        ram = random.randint(512, 2048)\n",
        "        bw = random.randint(100, 1000)\n",
        "        vm = VM(env, f'VM_{i}', mips, ram, bw)\n",
        "        vms.append(vm)\n",
        "    return vms\n",
        "\n",
        "def create_tasks(env, num_tasks):\n",
        "    tasks = []\n",
        "    for i in range(num_tasks):\n",
        "        length = random.randint(100, 1000)\n",
        "        cpu = random.randint(1, 5)  # Adjust as needed\n",
        "        ram = random.randint(100, 500)  # Adjust as needed\n",
        "        task = Task(env, f'Task_{i}', length, cpu, ram)\n",
        "        tasks.append(task)\n",
        "    return tasks\n",
        "\n",
        "def evaluate_fitness(particle, vms, tasks):\n",
        "    # Placeholder for fitness evaluation\n",
        "    return random.randint(0, 100)\n",
        "\n",
        "def pso(env, vms, tasks):\n",
        "    global_best_solution = None\n",
        "    global_best_fitness = float('inf')\n",
        "    particles = []\n",
        "    velocities = []\n",
        "    for _ in range(NUM_PARTICLES):\n",
        "        particle = np.random.permutation(len(tasks))\n",
        "        particles.append(particle)\n",
        "        velocity = np.random.uniform(-MAX_SPEED, MAX_SPEED, len(tasks))\n",
        "        velocities.append(velocity)\n",
        "    print(\"Particles:\", particles)\n",
        "    print(\"Velocities:\", velocities)\n",
        "    for iteration in range(NUM_ITERATIONS):\n",
        "        for i, particle in enumerate(particles):\n",
        "            fitness = evaluate_fitness(particle, vms, tasks)\n",
        "            if fitness < global_best_fitness:\n",
        "                global_best_solution = particle\n",
        "                global_best_fitness = fitness\n",
        "            for j in range(len(tasks)):\n",
        "                velocity_component1 = C1 * random.random() * (global_best_solution[j] - particle[j])\n",
        "                velocity_component2 = C2 * random.random() * (particles[i][j] - particle[j])\n",
        "                velocities[i][j] = min(MAX_SPEED, velocities[i][j] + velocity_component1 + velocity_component2)\n",
        "                particles[i][j] = max(0, min(len(tasks) - 1, particle[j] + int(velocities[i][j])))\n",
        "    return global_best_solution, global_best_fitness, particles  # Return particles as well\n",
        "\n",
        "def calculate_total_completion_time(solution, vms, tasks):\n",
        "    vm_times = [0] * len(vms)\n",
        "    for i, task_index in enumerate(solution):\n",
        "        vm_index = i % NUM_VMS\n",
        "        vm_time = vm_times[vm_index]\n",
        "        task = tasks[task_index]\n",
        "        task_time = task.length / vms[vm_index].mips\n",
        "        vm_times[vm_index] = max(vm_time, task_time) + task_time\n",
        "        vms[vm_index].used_cpu += task.cpu\n",
        "        vms[vm_index].used_ram += task.ram\n",
        "    return max(vm_times)\n",
        "\n",
        "def calculate_resource_utilization(vms):\n",
        "    total_cpu = sum(vm.mips for vm in vms)\n",
        "    total_ram = sum(vm.ram for vm in vms)\n",
        "    used_cpu = sum(vm.used_cpu for vm in vms)\n",
        "    used_ram = sum(vm.used_ram for vm in vms)\n",
        "    cpu_utilization = used_cpu / total_cpu\n",
        "    ram_utilization = used_ram / total_ram\n",
        "    return cpu_utilization, ram_utilization\n",
        "\n",
        "def main():\n",
        "    env = simpy.Environment()\n",
        "    vms = create_vms(env, NUM_VMS)\n",
        "    tasks = create_tasks(env, NUM_TASKS)\n",
        "    best_solution, best_fitness, particles = pso(env, vms, tasks)  # Receive particles here\n",
        "    total_completion_pso_time = calculate_total_completion_time(best_solution, vms, tasks)\n",
        "    cpu_utilization, ram_utilization = calculate_resource_utilization(vms)\n",
        "\n",
        "\n",
        "    print(\"Best Solution Found:\", best_solution)\n",
        "    print(\"Total Fitness:\", best_fitness)\n",
        "    print(\"Total Completion Time:\", total_completion_pso_time)\n",
        "    print(\"CPU Utilization:\", cpu_utilization)\n",
        "    print(\"RAM Utilization:\", ram_utilization)\n",
        "\n",
        "if __name__ == \"__main__\":\n",
        "    main()\n"
      ],
      "metadata": {
        "colab": {
          "base_uri": "https://localhost:8080/"
        },
        "id": "YiRuziv84a90",
        "outputId": "0d9184e8-21d2-408f-a38e-66d828b899a5"
      },
      "execution_count": null,
      "outputs": [
        {
          "output_type": "stream",
          "name": "stdout",
          "text": [
            "Particles: [array([7, 9, 6, 0, 1, 8, 3, 4, 2, 5]), array([1, 2, 5, 0, 7, 8, 3, 6, 4, 9]), array([0, 5, 3, 1, 7, 9, 4, 8, 6, 2]), array([4, 6, 2, 3, 9, 0, 8, 7, 5, 1]), array([5, 6, 8, 0, 4, 7, 9, 1, 2, 3])]\n",
            "Velocities: [array([ 0.39693507,  2.25971805, -1.20569466, -0.86785243, -0.91884824,\n",
            "        3.50428731, -4.81430323, -4.19562168, -4.05517963, -0.87002131]), array([ 4.2788614 , -2.6223903 , -3.88635805,  1.0482386 ,  3.10423549,\n",
            "       -3.04122368,  4.92841859, -0.17572497,  0.48900202, -2.36683456]), array([-3.70367166, -0.54904302,  4.40873652,  3.18880715,  0.23933086,\n",
            "        3.47820299,  3.71293309, -4.48021823,  1.37576836, -2.71348523]), array([-1.434954  , -4.78825639,  1.57273248, -0.55988645, -1.15571074,\n",
            "       -1.8309006 , -1.55761879, -1.51875686, -4.64737114,  2.92357301]), array([ 2.32081124, -1.09358626,  1.4233049 ,  0.68230605, -3.01541381,\n",
            "        1.68328798,  1.12425987,  0.70250442,  4.41069655, -1.5292289 ])]\n",
            "Best Solution Found: [9 0 8 9 0 9 9 9 9 0]\n",
            "Total Fitness: 0\n",
            "Total Completion Time: 1.7543391188251003\n",
            "CPU Utilization: 0.0044253079775146515\n",
            "RAM Utilization: 0.29659741041854865\n"
          ]
        }
      ]
    },
    {
      "cell_type": "markdown",
      "source": [
        "# Comparison on the basis of completion time and resource utlization.\n"
      ],
      "metadata": {
        "id": "x74LI-s0ImjI"
      }
    },
    {
      "cell_type": "code",
      "source": [
        "import matplotlib.pyplot as plt\n",
        "\n",
        "def plot_comparison(heuristic_completion_time, ga_completion_time, aco_completion_time, pso_completion_time):\n",
        "    plt.figure(figsize=(10, 6))\n",
        "    algorithms = ['Heuristic', 'Genetic Algorithm', 'Ant Colony Optimization', 'Particle Swarm Optimization']\n",
        "    completion_times = [heuristic_completion_time, ga_completion_time, aco_completion_time, pso_completion_time]\n",
        "    colors = ['skyblue', 'orange', 'lightgreen', 'salmon']\n",
        "    bar_width = 0.3\n",
        "    x_pos = range(len(algorithms))\n",
        "    plt.bar(x_pos, completion_times, color=colors, width=bar_width)\n",
        "    plt.xlabel('Algorithm')\n",
        "    plt.ylabel('Completion Time (seconds)')\n",
        "    plt.title('Comparison of Completion Time')\n",
        "    plt.grid(axis='y', linestyle='--', alpha=0.7)\n",
        "    plt.ylim(0, max(completion_times) * 1.5)  # Adjust y-axis limit for better visualization\n",
        "    for i, time in zip(x_pos, completion_times):\n",
        "        plt.text(i, time + 0.5, str(time), ha='center', va='bottom', fontsize=10)\n",
        "    plt.xticks(x_pos, algorithms)\n",
        "    plt.tight_layout()\n",
        "    plt.show()\n",
        "\n",
        "heuristic_completion_time = 4.5\n",
        "ga_completion_time = 4.7\n",
        "aco_completion_time = 0.9814432989690721\n",
        "pso_completion_time = 1.827258320126783\n",
        "\n",
        "plot_comparison(heuristic_completion_time, ga_completion_time, aco_completion_time, pso_completion_time)\n"
      ],
      "metadata": {
        "colab": {
          "base_uri": "https://localhost:8080/",
          "height": 607
        },
        "id": "gMSNgmWqIp3a",
        "outputId": "b9fb4fc7-30c6-4b15-d9ab-c75752a36e28"
      },
      "execution_count": null,
      "outputs": [
        {
          "output_type": "display_data",
          "data": {
            "text/plain": [
              "<Figure size 1000x600 with 1 Axes>"
            ],
            "image/png": "[encoded data removed]"
          },
          "metadata": {}
        }
      ]
    },
    {
      "cell_type": "code",
      "source": [
        "import matplotlib.pyplot as plt\n",
        "\n",
        "def plot_resource_utilization(cpu_utilization, ram_utilization, algorithms):\n",
        "    plt.figure(figsize=(10, 6))\n",
        "    bar_width = 0.3\n",
        "    x_pos = range(len(algorithms))\n",
        "\n",
        "    cpu_color = 'skyblue'\n",
        "    ram_color = 'orange'\n",
        "\n",
        "    plt.bar(x_pos, cpu_utilization, color=cpu_color, width=bar_width, label='CPU Utilization')\n",
        "    plt.bar([x + bar_width for x in x_pos], ram_utilization, color=ram_color, width=bar_width, label='RAM Utilization')\n",
        "\n",
        "    plt.xlabel('Algorithm')\n",
        "    plt.ylabel('Utilization (%)')\n",
        "    plt.title('Comparison of Resource Utilization')\n",
        "    plt.grid(axis='y', linestyle='--', alpha=0.7)\n",
        "    plt.ylim(0, 13)\n",
        "    plt.xticks([x + bar_width / 2 for x in x_pos], algorithms)\n",
        "    plt.legend()\n",
        "    plt.tight_layout()\n",
        "    plt.show()\n",
        "\n",
        "cpu_utilization = [0.2285714285714285, 0.34285714285714286, 0.012255248011758707, 12.35250737463127]\n",
        "ram_utilization = [0.25,  0.2916666666666667, 12.35250737463127 , 0.3510747185261003]\n",
        "algorithms = ['Heuristic', 'Genetic Algorithm', 'Ant Colony Optimization', 'Particle Swarm Optimization']\n",
        "\n",
        "plot_resource_utilization(cpu_utilization, ram_utilization, algorithms)\n"
      ],
      "metadata": {
        "colab": {
          "base_uri": "https://localhost:8080/",
          "height": 607
        },
        "id": "XdML_doOEKRz",
        "outputId": "47777182-300f-41b2-d571-bfda3417f0ee"
      },
      "execution_count": null,
      "outputs": [
        {
          "output_type": "display_data",
          "data": {
            "text/plain": [
              "<Figure size 1000x600 with 1 Axes>"
            ],
            "image/png": "[encoded data removed]"
          },
          "metadata": {}
        }
      ]
    }
  ]
}